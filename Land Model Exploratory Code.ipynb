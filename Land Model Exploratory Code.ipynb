{
 "cells": [
  {
   "cell_type": "code",
   "execution_count": 201,
   "metadata": {},
   "outputs": [],
   "source": [
    "# Importing packages\n",
    "\n",
    "import pandas as pd\n",
    "import numpy as np\n",
    "import plotnine as p9"
   ]
  },
  {
   "cell_type": "code",
   "execution_count": 202,
   "metadata": {},
   "outputs": [],
   "source": [
    "# Setting routes for reading in csv data\n",
    "\n",
    "data_masterplan_input_target = 'test_mp_data.csv'\n",
    "phasing_logic_input_target = 'phasing_logic_matrix.csv'\n",
    "\n",
    "# Reading in masterplan data and phasing logic matrix\n",
    "\n",
    "data_masterplan_input =  pd.read_csv(data_masterplan_input_target)\n",
    "phasing_logic_input = pd.read_csv(phasing_logic_input_target).rename({'delivery_status':'Phasing_Note'},axis = 1)\n"
   ]
  },
  {
   "cell_type": "code",
   "execution_count": 203,
   "metadata": {},
   "outputs": [],
   "source": [
    "# Dropnas from the project ID column from the main data_masterplan_input data frame\n",
    "\n",
    "data_masterplan_input = data_masterplan_input.dropna(subset = ['ProjectID'],axis = 0).reset_index(drop = True)"
   ]
  },
  {
   "cell_type": "code",
   "execution_count": 204,
   "metadata": {},
   "outputs": [],
   "source": [
    "# Find columns with a '%' sign and the column immediately to the left in the main masterplan input dataframe\n",
    "\n",
    "columns_with_percent = [col for col in data_masterplan_input.columns if '%' in col]\n",
    "\n",
    "selected_columns = []\n",
    "\n",
    "for col in columns_with_percent:\n",
    "\n",
    "    # Find the index of the column with a '%' sign\n",
    "    \n",
    "    col_index = data_masterplan_input.columns.get_loc(col)\n",
    "    # Append the column to the left if it exists\n",
    "    \n",
    "    if col_index > 0:\n",
    "        selected_columns.append(data_masterplan_input.columns[col_index - 1])\n",
    "    \n",
    "    # Append the column with a '%' sign\n",
    "    \n",
    "    selected_columns.append(col)\n",
    "\n",
    "# Select the identified columns from the DataFrame\n",
    "committed_development = data_masterplan_input[selected_columns]\n",
    "committed_development = pd.concat([data_masterplan_input[['ProjectID','Phasing_Note','Approved Completion Year']],committed_development],axis = 1)"
   ]
  },
  {
   "cell_type": "code",
   "execution_count": 205,
   "metadata": {},
   "outputs": [],
   "source": [
    "# Creating dataframe that contains land uses for joining onto adhoc dataframes later in the phasing process.\n",
    "\n",
    "land_use_df = pd.DataFrame({'land_use':selected_columns})\n",
    "land_use_df = land_use_df[~land_use_df['land_use'].str.contains('%')].reset_index(drop = True)"
   ]
  },
  {
   "cell_type": "code",
   "execution_count": 206,
   "metadata": {},
   "outputs": [
    {
     "name": "stdout",
     "output_type": "stream",
     "text": [
      "['2024' '2025' '2026' '2027' '2028' '2029' '2030' '2031' '2032' '2033'\n",
      " '2034' '2035' '2036' '2037' '2038' '2039' '2040']\n"
     ]
    }
   ],
   "source": [
    "# Setting start dates of the plan\n",
    "\n",
    "plan_start = 2024\n",
    "plan_end = 2040\n",
    "\n",
    "# Creating sequence containing all years of the plan phasing period\n",
    "\n",
    "phasing_period = np.arange(plan_start,plan_end+1,1)\n",
    "phasing_period = phasing_period.astype(str)\n",
    "print(phasing_period)\n"
   ]
  },
  {
   "cell_type": "code",
   "execution_count": 207,
   "metadata": {},
   "outputs": [],
   "source": [
    "# Creating dataframe includes the manual phasing overrides\n",
    "\n",
    "phasing_override_input = data_masterplan_input[phasing_period]\n",
    "phasing_override_input = pd.concat([data_masterplan_input['ProjectID'],phasing_override_input],axis = 1)\n",
    "\n",
    "# Creating data frame with phasing timeline for attaching to different development phasing pipelines\n",
    "\n",
    "timeline = phasing_override_input"
   ]
  },
  {
   "cell_type": "code",
   "execution_count": 208,
   "metadata": {},
   "outputs": [],
   "source": [
    "# Identifying which development group committed development should be entered in based on delivery status\n",
    "\n",
    "committed_development =committed_development.merge(phasing_logic_input,how = 'left',on = 'Phasing_Note')\n",
    "\n",
    "# Dropping masterplans without a status or are complete\n",
    "\n",
    "committed_development= committed_development.dropna(subset=['group'],axis =0)\n",
    "committed_development = committed_development[committed_development['group'] != 'Remove'].reset_index(drop = True)\n"
   ]
  },
  {
   "cell_type": "code",
   "execution_count": 209,
   "metadata": {},
   "outputs": [],
   "source": [
    "# Creating a data frame that contains under construction development\n",
    "under_construction_development = committed_development[committed_development['group'] == 'Under Construction'].reset_index(drop = True)\n",
    "under_construction_development['Approved Completion Year'] =under_construction_development['Approved Completion Year'].apply(lambda x: 1 if pd.isna(x) or not isinstance(x, int) else x\n",
    ").astype(int)\n",
    "\n",
    "# Removing un-needed columns\n",
    "under_construction_development = under_construction_development.drop(['group','delay_period_yrs','Phasing_Note'],axis = 1)\n",
    "\n",
    "# Melting the data frame into long form\n",
    "under_construction_development = under_construction_development.melt(id_vars= ['ProjectID','Approved Completion Year'])\n",
    "\n",
    "# Splitting the long-form data frame into two parts and merging those parts together - the purpose being to split the % committed and number of units associated with each land use into separatre columns\n",
    "under_construction_development_split_1 = under_construction_development[~under_construction_development['variable'].str.contains('%')].reset_index(drop = True).rename({'variable':'land_use','value':'number_units'},axis = 1)\n",
    "under_construction_development_split_2 = under_construction_development[under_construction_development['variable'].str.contains('%')].reset_index(drop = True).drop(['ProjectID','variable','Approved Completion Year'],axis = 1).rename({'value':'per_committed'},axis = 1)\n",
    "under_construction_development = pd.concat([under_construction_development_split_1,under_construction_development_split_2],axis = 1)\n",
    "\n",
    "# Creating starting and end of phasing year columns\n",
    "\n",
    "under_construction_development['start_year'] = plan_start\n",
    "under_construction_development['end_year'] = under_construction_development['Approved Completion Year'].apply(lambda x: (plan_start + 1) if pd.isna(x) or x <= plan_start else x)\n",
    "\n",
    "# Calculating the percentage of development over the course of each phasing period\n",
    "\n",
    "under_construction_development['development_pa'] = under_construction_development['per_committed']/(under_construction_development['end_year'] - under_construction_development['start_year'])\n",
    "\n"
   ]
  },
  {
   "cell_type": "code",
   "execution_count": 210,
   "metadata": {},
   "outputs": [],
   "source": [
    "# Merging data and preprocessing\n",
    "under_construction_development_phased = under_construction_development.merge(timeline, how='left', on='ProjectID')\n",
    "under_construction_development_phased = under_construction_development_phased.drop(['Approved Completion Year', 'number_units', 'per_committed'], axis=1)\n",
    "under_construction_development_phased = under_construction_development_phased.melt(id_vars=['ProjectID', 'land_use', 'start_year', 'end_year', 'development_pa'])\n",
    "\n",
    "# Ensuring that datatype conversions are handled for all related columns\n",
    "under_construction_development_phased['variable'] = pd.to_numeric(under_construction_development_phased['variable'], errors='coerce')  # Converting the 'variable' which probably holds year values\n",
    "under_construction_development_phased['start_year'] = pd.to_numeric(under_construction_development_phased['start_year'], errors='coerce')  # Converting 'start_year' to numeric if it isn't already\n",
    "under_construction_development_phased['end_year'] = pd.to_numeric(under_construction_development_phased['end_year'], errors='coerce')  # Converting 'end_year' to numeric\n",
    "under_construction_development_phased['development_pa'] = pd.to_numeric(under_construction_development_phased['development_pa'], errors='coerce')  # Converting 'development_pa'\n",
    "\n",
    "# Handling the conditional logic to determine the value based on year range\n",
    "under_construction_development_phased['value'] = under_construction_development_phased.apply(\n",
    "    lambda row: row['development_pa'] if (row['variable'] >= row['start_year'] and row['variable'] <= row['end_year']) else 0, \n",
    "    axis=1)\n",
    "\n",
    "under_construction_development_phased = under_construction_development_phased[['ProjectID','land_use','variable','value']].rename({'variable':'year','value':'development_pa'},axis =1)\n",
    "under_construction_development_phased['status'] = 'Under Construction'"
   ]
  },
  {
   "cell_type": "code",
   "execution_count": 211,
   "metadata": {},
   "outputs": [],
   "source": [
    "# Creating a data frame that contains under construction development\n",
    "pipeline_development = committed_development[committed_development['group'] == 'Pipeline'].reset_index(drop = True)\n",
    "pipeline_development['Approved Completion Year'] = pipeline_development['Approved Completion Year'].apply(lambda x: 1 if pd.isna(x) or not isinstance(x, int) else x\n",
    ").astype(int)\n",
    "\n",
    "# Removing un-needed columns\n",
    "pipeline_development= pipeline_development.drop(['group','Phasing_Note'],axis = 1)\n",
    "\n",
    "# Melting the data frame into long form\n",
    "pipeline_development= pipeline_development.melt(id_vars= ['ProjectID','Approved Completion Year','delay_period_yrs'])\n",
    "\n",
    "# Splitting the long-form data frame into two parts and merging those parts together - the purpose being to split the % committed and number of units associated with each land use into separatre columns\n",
    "pipeline_development_split_1 = pipeline_development[~pipeline_development['variable'].str.contains('%')].reset_index(drop = True).rename({'variable':'land_use','value':'number_units'},axis = 1)\n",
    "pipeline_development_split_2 = pipeline_development[pipeline_development['variable'].str.contains('%')].reset_index(drop = True).drop(['ProjectID','variable','Approved Completion Year','delay_period_yrs'],axis = 1).rename({'value':'per_committed'},axis = 1)\n",
    "pipeline_development = pd.concat([pipeline_development_split_1,pipeline_development_split_2],axis = 1)\n",
    "pipeline_development['delay_period_yrs'] = pipeline_development['delay_period_yrs'].astype(int)\n",
    "\n",
    "# Creating starting and end of phasing year columns\n",
    "\n",
    "pipeline_development['start_year'] =  pipeline_development['delay_period_yrs'] + plan_start\n",
    "pipeline_development['end_year'] = pipeline_development['Approved Completion Year'].apply(lambda x: plan_end if pd.isna(x) or x <= plan_start or x < plan_end else x)\n",
    "\n",
    "# Calculating the percentage of development over the course of each phasing period\n",
    "pipeline_development['development_pa'] = pipeline_development['per_committed']/(pipeline_development['end_year'] - pipeline_development['start_year'])\n"
   ]
  },
  {
   "cell_type": "code",
   "execution_count": 212,
   "metadata": {},
   "outputs": [],
   "source": [
    "# Merging data and preprocessing\n",
    "pipeline_development_phased = pipeline_development.merge(timeline, how='left', on='ProjectID')\n",
    "pipeline_development_phased = pipeline_development_phased.drop(['Approved Completion Year', 'number_units', 'per_committed','delay_period_yrs'], axis=1)\n",
    "pipeline_development_phased = pipeline_development_phased.melt(id_vars=['ProjectID', 'land_use', 'start_year', 'end_year', 'development_pa'])\n",
    "\n",
    "# Ensuring that datatype conversions are handled for all related columns\n",
    "pipeline_development_phased['variable'] = pd.to_numeric(pipeline_development_phased['variable'], errors='coerce')  # Converting the 'variable' which probably holds year values\n",
    "pipeline_development_phased['start_year'] = pd.to_numeric(pipeline_development_phased['start_year'], errors='coerce')  # Converting 'start_year' to numeric if it isn't already\n",
    "pipeline_development_phased['end_year'] = pd.to_numeric(pipeline_development_phased['end_year'], errors='coerce')  # Converting 'end_year' to numeric\n",
    "pipeline_development_phased['development_pa'] = pd.to_numeric(pipeline_development_phased['development_pa'], errors='coerce')  # Converting 'development_pa'\n",
    "\n",
    "# Handling the conditional logic to determine the value based on year range\n",
    "pipeline_development_phased['value'] = pipeline_development_phased.apply(\n",
    "    lambda row: row['development_pa'] if (row['variable'] >= row['start_year'] and row['variable'] <= row['end_year']) else 0, \n",
    "    axis=1)\n",
    "\n",
    "pipeline_development_phased = pipeline_development_phased[['ProjectID','land_use','variable','value']].rename({'variable':'year','value':'development_pa'},axis =1)\n",
    "pipeline_development_phased['status'] = 'Pipeline'"
   ]
  },
  {
   "cell_type": "code",
   "execution_count": 213,
   "metadata": {},
   "outputs": [],
   "source": [
    "# Collating under construction and pipeline development into one section\n",
    "\n",
    "development_phased = pd.concat([under_construction_development_phased,pipeline_development_phased],axis = 0).reset_index(drop = True)"
   ]
  },
  {
   "cell_type": "code",
   "execution_count": 214,
   "metadata": {},
   "outputs": [],
   "source": [
    "# Creating data frame containing the phased development\n",
    "\n",
    "override_phased = phasing_override_input.melt(id_vars= 'ProjectID').reset_index(drop = True)\n",
    "override_phased['value'] = override_phased.apply(lambda row: 0.05 if row['ProjectID'] == 'Riyadh' else row['value'],axis = 1)\n",
    "override_phased = override_phased.rename({'variable':'year','value':'override_development_pa'},axis =1).dropna().reset_index(drop = True)\n",
    "\n",
    "# Picking out developments that have associated phasings\n",
    "\n",
    "override_mps = override_phased['ProjectID'].drop_duplicates()\n",
    "override_mps = override_mps.tolist()"
   ]
  },
  {
   "cell_type": "code",
   "execution_count": 215,
   "metadata": {},
   "outputs": [],
   "source": [
    "# Creating function for creating a sub-dataframe that contains the project ids and land uses in long form\n",
    "\n",
    "def land_use_df_concat(land_use_df, land_uses):\n",
    "    # Create a copy of the original DataFrame to avoid modifying it directly\n",
    "    dummy_df = land_use_df.copy()\n",
    "    dummy_df['ProjectID'] = 'a_number'\n",
    "    \n",
    "    # Initialize a list to store DataFrames\n",
    "    df_list = [dummy_df]\n",
    "    \n",
    "    for use in land_uses:\n",
    "        new_df = land_use_df.copy()\n",
    "        new_df['ProjectID'] = use\n",
    "        df_list.append(new_df)\n",
    "    \n",
    "    # Concatenate all DataFrames in the list along the rows (axis=0)\n",
    "    result_df = pd.concat(df_list, axis=0)\n",
    "    \n",
    "    return result_df"
   ]
  },
  {
   "cell_type": "code",
   "execution_count": 216,
   "metadata": {},
   "outputs": [],
   "source": [
    "# Using land use sub-dataframe and binding on phasing to create a phasing by land use timeline for each project\n",
    "\n",
    "override_phased = override_phased.pivot(index = ['ProjectID'], columns = ['year'],values = 'override_development_pa').reset_index()\n",
    "override_land_use_df = land_use_df_concat(land_use_df,override_mps)\n",
    "override_land_use_df = override_land_use_df[override_land_use_df['ProjectID'] != 'a_number']\n",
    "override_phased = override_phased.merge(override_land_use_df,how = 'left', on = 'ProjectID')\n",
    "\n",
    "# Shifting override phased dataframe to long form for merging with the phased development dataframe\n",
    "\n",
    "override_phased = override_phased.melt(id_vars = ['ProjectID','land_use'])\n",
    "override_phased = override_phased.rename({'variable':'year','value':'development_pa'},axis = 1)\n",
    "override_phased['status'] = 'Override'"
   ]
  },
  {
   "cell_type": "code",
   "execution_count": 217,
   "metadata": {},
   "outputs": [],
   "source": [
    "# Filtering out masterplans that have been have been overridden\n",
    "\n",
    "development_phased = development_phased[~development_phased['ProjectID'].isin(override_mps)]\n",
    "\n",
    "# Concatenating the phased override dataframe with the filtered phased development dataframe\n",
    "\n",
    "development_phased = pd.concat([development_phased,override_phased],axis = 0)\n"
   ]
  }
 ],
 "metadata": {
  "kernelspec": {
   "display_name": "landmodel",
   "language": "python",
   "name": "python3"
  },
  "language_info": {
   "codemirror_mode": {
    "name": "ipython",
    "version": 3
   },
   "file_extension": ".py",
   "mimetype": "text/x-python",
   "name": "python",
   "nbconvert_exporter": "python",
   "pygments_lexer": "ipython3",
   "version": "3.12.4"
  }
 },
 "nbformat": 4,
 "nbformat_minor": 2
}
